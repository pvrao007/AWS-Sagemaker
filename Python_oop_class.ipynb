{
  "nbformat": 4,
  "nbformat_minor": 0,
  "metadata": {
    "colab": {
      "name": "Python_oop_class.ipynb",
      "provenance": [],
      "collapsed_sections": [],
      "authorship_tag": "ABX9TyMwDDYCvFB++RdQSCkH5mfk",
      "include_colab_link": true
    },
    "kernelspec": {
      "name": "python3",
      "display_name": "Python 3"
    },
    "language_info": {
      "name": "python"
    }
  },
  "cells": [
    {
      "cell_type": "markdown",
      "metadata": {
        "id": "view-in-github",
        "colab_type": "text"
      },
      "source": [
        "<a href=\"https://colab.research.google.com/github/pvrao007/AWS-Sagemaker/blob/master/Python_oop_class.ipynb\" target=\"_parent\"><img src=\"https://colab.research.google.com/assets/colab-badge.svg\" alt=\"Open In Colab\"/></a>"
      ]
    },
    {
      "cell_type": "code",
      "metadata": {
        "id": "M7QEkS1V20Uu"
      },
      "source": [
        "class this_is_a_class:\n",
        "  def print_something():\n",
        "    print('Hello')"
      ],
      "execution_count": 6,
      "outputs": []
    },
    {
      "cell_type": "code",
      "metadata": {
        "colab": {
          "base_uri": "https://localhost:8080/",
          "height": 180
        },
        "id": "7PL915N13gbT",
        "outputId": "e7925555-1a0b-444c-d327-700093678077"
      },
      "source": [
        "a= this_is_a_class()\n",
        "a.print_something()"
      ],
      "execution_count": 7,
      "outputs": [
        {
          "output_type": "error",
          "ename": "TypeError",
          "evalue": "ignored",
          "traceback": [
            "\u001b[0;31m---------------------------------------------------------------------------\u001b[0m",
            "\u001b[0;31mTypeError\u001b[0m                                 Traceback (most recent call last)",
            "\u001b[0;32m<ipython-input-7-866d548a28e3>\u001b[0m in \u001b[0;36m<module>\u001b[0;34m()\u001b[0m\n\u001b[1;32m      1\u001b[0m \u001b[0ma\u001b[0m\u001b[0;34m=\u001b[0m \u001b[0mthis_is_a_class\u001b[0m\u001b[0;34m(\u001b[0m\u001b[0;34m)\u001b[0m\u001b[0;34m\u001b[0m\u001b[0;34m\u001b[0m\u001b[0m\n\u001b[0;32m----> 2\u001b[0;31m \u001b[0ma\u001b[0m\u001b[0;34m.\u001b[0m\u001b[0mprint_something\u001b[0m\u001b[0;34m(\u001b[0m\u001b[0;34m)\u001b[0m\u001b[0;34m\u001b[0m\u001b[0;34m\u001b[0m\u001b[0m\n\u001b[0m",
            "\u001b[0;31mTypeError\u001b[0m: print_something() takes 0 positional arguments but 1 was given"
          ]
        }
      ]
    },
    {
      "cell_type": "code",
      "metadata": {
        "id": "irATF1K04vmZ"
      },
      "source": [
        "class this_is_a_class:\n",
        "  def print_something(self):\n",
        "    print('Hello')\n",
        "    class internal_class:\n",
        "      def print_otherthing(self):\n",
        "        print('Hello other')"
      ],
      "execution_count": 16,
      "outputs": []
    },
    {
      "cell_type": "code",
      "metadata": {
        "id": "cRao0-OL46VE"
      },
      "source": [
        "class creating_a_variable:\n",
        "  favorite_food = 'potato'\n",
        "  "
      ],
      "execution_count": null,
      "outputs": []
    },
    {
      "cell_type": "code",
      "metadata": {
        "id": "OaRitdzT46iO"
      },
      "source": [
        "class my_first_class:\n",
        "  def __init__(self):\n",
        "    self.message='This is a class'\n",
        "    print(\"starting up sir\")   ## everytime we class this class we are using init and printing \"Starting up sir\"   # self is getting name of this class"
      ],
      "execution_count": 26,
      "outputs": []
    },
    {
      "cell_type": "code",
      "metadata": {
        "colab": {
          "base_uri": "https://localhost:8080/"
        },
        "id": "mXlmoFW97SK0",
        "outputId": "6c3209fa-4677-49ee-e746-5cefb2e981be"
      },
      "source": [
        "a = my_first_class()"
      ],
      "execution_count": 23,
      "outputs": [
        {
          "output_type": "stream",
          "text": [
            "starting up sir\n"
          ],
          "name": "stdout"
        }
      ]
    },
    {
      "cell_type": "code",
      "metadata": {
        "colab": {
          "base_uri": "https://localhost:8080/"
        },
        "id": "FDnycn7r7Y1e",
        "outputId": "45fc59cc-6868-4b50-ccd3-23199a400832"
      },
      "source": [
        "print(a.message) # once we extantiated the class we can print"
      ],
      "execution_count": 27,
      "outputs": [
        {
          "output_type": "stream",
          "text": [
            "This is a class\n"
          ],
          "name": "stdout"
        }
      ]
    },
    {
      "cell_type": "code",
      "metadata": {
        "id": "usyly-Ra78xB"
      },
      "source": [
        "class do_some_math: # we can make multiple instances - we have two different copies like a and b and do different things with them\n",
        "  def __init__(self,number1,number2):\n",
        "    self.first_number = number1\n",
        "    self.second_number = number2\n",
        "  def add_the_numbers(self):\n",
        "    return self.first_number + self.second_number"
      ],
      "execution_count": 28,
      "outputs": []
    },
    {
      "cell_type": "code",
      "metadata": {
        "id": "B23RdyLy79KP"
      },
      "source": [
        "a = do_some_math(1,2)"
      ],
      "execution_count": 30,
      "outputs": []
    },
    {
      "cell_type": "code",
      "metadata": {
        "colab": {
          "base_uri": "https://localhost:8080/"
        },
        "id": "dEpSuIiE83qb",
        "outputId": "a261ca31-8edc-4ba1-ad9b-b51d1fb624ee"
      },
      "source": [
        "a.add_the_numbers()"
      ],
      "execution_count": 31,
      "outputs": [
        {
          "output_type": "execute_result",
          "data": {
            "text/plain": [
              "3"
            ]
          },
          "metadata": {
            "tags": []
          },
          "execution_count": 31
        }
      ]
    },
    {
      "cell_type": "code",
      "metadata": {
        "colab": {
          "base_uri": "https://localhost:8080/"
        },
        "id": "SlnWzN4n87Xi",
        "outputId": "130abafd-86a7-48be-d561-8c3db4c45b5b"
      },
      "source": [
        "b= do_some_math(4,5)\n",
        "\n",
        "b.add_the_numbers()"
      ],
      "execution_count": 33,
      "outputs": [
        {
          "output_type": "execute_result",
          "data": {
            "text/plain": [
              "9"
            ]
          },
          "metadata": {
            "tags": []
          },
          "execution_count": 33
        }
      ]
    },
    {
      "cell_type": "code",
      "metadata": {
        "colab": {
          "base_uri": "https://localhost:8080/"
        },
        "id": "IxRG5ls29Lib",
        "outputId": "83a5d809-ba7d-477b-d285-4d97b615c33b"
      },
      "source": [
        "a.add_the_numbers()"
      ],
      "execution_count": 34,
      "outputs": [
        {
          "output_type": "execute_result",
          "data": {
            "text/plain": [
              "3"
            ]
          },
          "metadata": {
            "tags": []
          },
          "execution_count": 34
        }
      ]
    }
  ]
}